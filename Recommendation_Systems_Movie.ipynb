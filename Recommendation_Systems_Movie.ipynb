{
 "cells": [
  {
   "cell_type": "code",
   "execution_count": 4,
   "metadata": {},
   "outputs": [
    {
     "name": "stdout",
     "output_type": "stream",
     "text": [
      "Requirement already satisfied: lightfm in c:\\users\\srisai\\anaconda3\\lib\\site-packages\\lightfm-1.14-py3.6-win-amd64.egg\n",
      "Requirement already satisfied: numpy in c:\\users\\srisai\\anaconda3\\lib\\site-packages (from lightfm)\n",
      "Requirement already satisfied: scipy>=0.17.0 in c:\\users\\srisai\\anaconda3\\lib\\site-packages (from lightfm)\n",
      "Requirement already satisfied: requests in c:\\users\\srisai\\anaconda3\\lib\\site-packages (from lightfm)\n",
      "Requirement already satisfied: chardet<3.1.0,>=3.0.2 in c:\\users\\srisai\\anaconda3\\lib\\site-packages (from requests->lightfm)\n",
      "Requirement already satisfied: idna<2.7,>=2.5 in c:\\users\\srisai\\anaconda3\\lib\\site-packages (from requests->lightfm)\n",
      "Requirement already satisfied: urllib3<1.23,>=1.21.1 in c:\\users\\srisai\\anaconda3\\lib\\site-packages (from requests->lightfm)\n",
      "Requirement already satisfied: certifi>=2017.4.17 in c:\\users\\srisai\\anaconda3\\lib\\site-packages (from requests->lightfm)\n"
     ]
    }
   ],
   "source": [
    "!pip install lightfm"
   ]
  },
  {
   "cell_type": "code",
   "execution_count": 39,
   "metadata": {},
   "outputs": [],
   "source": [
    "import numpy as np\n",
    "from lightfm.datasets import fetch_movielens\n",
    "from lightfm import LightFM \n",
    "import pandas as pd"
   ]
  },
  {
   "cell_type": "code",
   "execution_count": 2,
   "metadata": {
    "collapsed": true
   },
   "outputs": [],
   "source": [
    "data = fetch_movielens(min_rating=4.0)"
   ]
  },
  {
   "cell_type": "code",
   "execution_count": 3,
   "metadata": {},
   "outputs": [
    {
     "data": {
      "text/plain": [
       "{'item_feature_labels': array(['Toy Story (1995)', 'GoldenEye (1995)', 'Four Rooms (1995)', ...,\n",
       "        'Sliding Doors (1998)', 'You So Crazy (1994)',\n",
       "        'Scream of Stone (Schrei aus Stein) (1991)'], dtype=object),\n",
       " 'item_features': <1682x1682 sparse matrix of type '<class 'numpy.float32'>'\n",
       " \twith 1682 stored elements in Compressed Sparse Row format>,\n",
       " 'item_labels': array(['Toy Story (1995)', 'GoldenEye (1995)', 'Four Rooms (1995)', ...,\n",
       "        'Sliding Doors (1998)', 'You So Crazy (1994)',\n",
       "        'Scream of Stone (Schrei aus Stein) (1991)'], dtype=object),\n",
       " 'test': <943x1682 sparse matrix of type '<class 'numpy.int32'>'\n",
       " \twith 5469 stored elements in COOrdinate format>,\n",
       " 'train': <943x1682 sparse matrix of type '<class 'numpy.int32'>'\n",
       " \twith 49906 stored elements in COOrdinate format>}"
      ]
     },
     "execution_count": 3,
     "metadata": {},
     "output_type": "execute_result"
    }
   ],
   "source": [
    "data"
   ]
  },
  {
   "cell_type": "code",
   "execution_count": 4,
   "metadata": {
    "collapsed": true
   },
   "outputs": [],
   "source": [
    "#create model\n",
    "model = LightFM(loss='warp')"
   ]
  },
  {
   "cell_type": "code",
   "execution_count": 5,
   "metadata": {},
   "outputs": [
    {
     "data": {
      "text/plain": [
       "<lightfm.lightfm.LightFM at 0x7fc5550>"
      ]
     },
     "execution_count": 5,
     "metadata": {},
     "output_type": "execute_result"
    }
   ],
   "source": [
    "#train model\n",
    "model.fit(data['train'],epochs=15,num_threads=1)"
   ]
  },
  {
   "cell_type": "code",
   "execution_count": 37,
   "metadata": {
    "scrolled": true
   },
   "outputs": [],
   "source": [
    "def sample_recommendation(model,data,userids):\n",
    "    n_users, n_items = data['train'].shape\n",
    "    for user_id in userids:\n",
    "        known_positives = data['item_labels'][data['train'].tocsr()[0].indices]\n",
    "        scores = model.predict(0,np.arange(n_items))\n",
    "        top_items = data['item_labels'][np.argsort(-scores)]\n",
    "        print(\"User %s\" % user_id)\n",
    "        print(\"     Known positives:\")\n",
    "\n",
    "        for x in known_positives[:3]:\n",
    "            print(\"        %s\" % x)\n",
    "\n",
    "        print(\"     Recommended:\")\n",
    "\n",
    "        for x in top_items[:3]:\n",
    "            print(\"        %s\" % x)"
   ]
  },
  {
   "cell_type": "code",
   "execution_count": 38,
   "metadata": {},
   "outputs": [
    {
     "name": "stdout",
     "output_type": "stream",
     "text": [
      "User 0\n",
      "     Known positives:\n",
      "        Toy Story (1995)\n",
      "        Four Rooms (1995)\n",
      "        Shanghai Triad (Yao a yao yao dao waipo qiao) (1995)\n",
      "     Recommended:\n",
      "        Star Wars (1977)\n",
      "        Monty Python and the Holy Grail (1974)\n",
      "        Silence of the Lambs, The (1991)\n",
      "User 34\n",
      "     Known positives:\n",
      "        Toy Story (1995)\n",
      "        Four Rooms (1995)\n",
      "        Shanghai Triad (Yao a yao yao dao waipo qiao) (1995)\n",
      "     Recommended:\n",
      "        Star Wars (1977)\n",
      "        Monty Python and the Holy Grail (1974)\n",
      "        Silence of the Lambs, The (1991)\n",
      "User 1223\n",
      "     Known positives:\n",
      "        Toy Story (1995)\n",
      "        Four Rooms (1995)\n",
      "        Shanghai Triad (Yao a yao yao dao waipo qiao) (1995)\n",
      "     Recommended:\n",
      "        Star Wars (1977)\n",
      "        Monty Python and the Holy Grail (1974)\n",
      "        Silence of the Lambs, The (1991)\n"
     ]
    }
   ],
   "source": [
    "sample_recommendation(model, data, [0, 34, 1223])"
   ]
  },
  {
   "cell_type": "code",
   "execution_count": null,
   "metadata": {
    "collapsed": true
   },
   "outputs": [],
   "source": []
  }
 ],
 "metadata": {
  "kernelspec": {
   "display_name": "Python 3",
   "language": "python",
   "name": "python3"
  },
  "language_info": {
   "codemirror_mode": {
    "name": "ipython",
    "version": 3
   },
   "file_extension": ".py",
   "mimetype": "text/x-python",
   "name": "python",
   "nbconvert_exporter": "python",
   "pygments_lexer": "ipython3",
   "version": "3.6.3"
  }
 },
 "nbformat": 4,
 "nbformat_minor": 2
}
